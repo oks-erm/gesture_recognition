{
 "cells": [
  {
   "attachments": {},
   "cell_type": "markdown",
   "metadata": {},
   "source": [
    "Import libraries"
   ]
  },
  {
   "cell_type": "code",
   "execution_count": 62,
   "metadata": {},
   "outputs": [
    {
     "name": "stdout",
     "output_type": "stream",
     "text": [
      "1.13.1\n"
     ]
    }
   ],
   "source": [
    "import os\n",
    "import torch\n",
    "import torch.nn as nn\n",
    "import numpy as np\n",
    "from torch.utils.data import Dataset, DataLoader, random_split\n",
    "from torchvision import transforms\n",
    "from torch.autograd import Variable\n",
    "import torch.optim as optim\n",
    "from PIL import Image\n",
    "import pandas as pd\n",
    "import cv2\n",
    "import zipfile\n",
    "print(torch.__version__)"
   ]
  },
  {
   "attachments": {},
   "cell_type": "markdown",
   "metadata": {},
   "source": [
    "Setup the environment"
   ]
  },
  {
   "cell_type": "code",
   "execution_count": 2,
   "metadata": {},
   "outputs": [
    {
     "name": "stdout",
     "output_type": "stream",
     "text": [
      "Current directory:  /Users/oksanaerm/gesture_recognition\n",
      "Data directory:  /Users/oksanaerm/gesture_recognition/../data/\n"
     ]
    }
   ],
   "source": [
    "current_dir = os.getcwd()\n",
    "os.chdir(os.path.dirname(current_dir))\n",
    "current_dir = os.getcwd()\n",
    "print('Current directory: ', current_dir)"
   ]
  },
  {
   "cell_type": "code",
   "execution_count": 4,
   "metadata": {},
   "outputs": [
    {
     "name": "stdout",
     "output_type": "stream",
     "text": [
      "Data directory:  /Users/oksanaerm/gesture_recognition/data/\n"
     ]
    }
   ],
   "source": [
    "data_dir = os.path.join(current_dir, 'data/')\n",
    "train_dir = os.path.join(data_dir, 'train/')\n",
    "val_dir = os.path.join(data_dir, 'val/')\n",
    "test_dir = os.path.join(data_dir, 'test/')\n",
    "print('Data directory: ', data_dir)"
   ]
  },
  {
   "attachments": {},
   "cell_type": "markdown",
   "metadata": {},
   "source": [
    "Import data"
   ]
  },
  {
   "cell_type": "code",
   "execution_count": null,
   "metadata": {},
   "outputs": [],
   "source": [
    "! pip install kaggle"
   ]
  },
  {
   "cell_type": "code",
   "execution_count": 6,
   "metadata": {},
   "outputs": [
    {
     "name": "stdout",
     "output_type": "stream",
     "text": [
      "Kaggle API token loaded.\n"
     ]
    }
   ],
   "source": [
    "with open(\"kaggle.json\", \"r\") as f:\n",
    "    import json\n",
    "    api_token = json.load(f)\n",
    "os.environ['KAGGLE_USERNAME'] = api_token[\"username\"]\n",
    "os.environ['KAGGLE_KEY'] = api_token[\"key\"]\n",
    "print('Kaggle API token loaded.')"
   ]
  },
  {
   "cell_type": "code",
   "execution_count": 9,
   "metadata": {},
   "outputs": [
    {
     "name": "stdout",
     "output_type": "stream",
     "text": [
      "Downloading gesture-recognition.zip to data\n",
      "100%|█████████████████████████████████████▉| 1.60G/1.60G [09:15<00:00, 5.82MB/s]\n",
      "100%|██████████████████████████████████████| 1.60G/1.60G [09:15<00:00, 3.09MB/s]\n",
      "Dataset not found.\n"
     ]
    }
   ],
   "source": [
    "! kaggle datasets download -d imsparsh/gesture-recognition -p data\n",
    "\n",
    "# Check for the presence of the dataset file\n",
    "if any(file.endswith('.zip') for file in data_dir):\n",
    "    print(\"Dataset downloaded successfully.\")\n",
    "else:\n",
    "    print(\"Dataset not found.\")"
   ]
  },
  {
   "cell_type": "code",
   "execution_count": 12,
   "metadata": {},
   "outputs": [
    {
     "name": "stdout",
     "output_type": "stream",
     "text": [
      "Dataset extracted successfully.\n"
     ]
    }
   ],
   "source": [
    "with zipfile.ZipFile(os.path.join(data_dir, 'gesture-recognition.zip'), 'r') as zip_ref:\n",
    "    zip_ref.extractall(data_dir)\n",
    "    print(\"Dataset extracted successfully.\")\n",
    "os.remove(os.path.join(data_dir, 'gesture-recognition.zip'))"
   ]
  },
  {
   "cell_type": "code",
   "execution_count": 16,
   "metadata": {},
   "outputs": [],
   "source": [
    "def get_transform(image_size: tuple) -> transforms.Compose:\n",
    "    return transforms.Compose([\n",
    "        transforms.ToPILImage(),\n",
    "        transforms.Resize(image_size),\n",
    "        transforms.ToTensor()\n",
    "    ])"
   ]
  },
  {
   "cell_type": "code",
   "execution_count": 64,
   "metadata": {},
   "outputs": [],
   "source": [
    "class GestureDataset(Dataset):\n",
    "    def __init__(self, root_dir, transform=None):\n",
    "        self.root_dir = root_dir\n",
    "        self.transform = transform\n",
    "        self.gesture_folders = sorted(\n",
    "            [folder for folder in os.listdir(self.root_dir)])\n",
    "        self.class_to_label = {\n",
    "            'Thumbs_Down': 0, 'Right_Swipe': 1, 'Thumbs_Up': 2, 'Left_Swipe': 3, 'Stop': 4}\n",
    "\n",
    "    def __len__(self):\n",
    "        return len(self.gesture_folders)\n",
    "\n",
    "    def __getitem__(self, idx):\n",
    "        gesture_path = os.path.join(self.root_dir, self.gesture_folders[idx])\n",
    "\n",
    "        # Normalize folder name by replacing underscores and converting to lower case\n",
    "        normalized_folder_name = self.gesture_folders[idx].replace(\n",
    "            '_', ' ').lower()\n",
    "\n",
    "        # Try to match normalized folder name with normalized keys from the dictionary\n",
    "        for gesture_type in self.class_to_label.keys():\n",
    "            normalized_gesture_type = gesture_type.replace('_', ' ').lower()\n",
    "            if normalized_gesture_type in normalized_folder_name:\n",
    "                gesture_class_str = gesture_type\n",
    "                break\n",
    "        else:\n",
    "            raise ValueError(\n",
    "                f\"Unknown gesture type in folder name: {self.gesture_folders[idx]}\")\n",
    "\n",
    "        # Use the dictionary to get the integer label\n",
    "        gesture_class = self.class_to_label.get(gesture_class_str, -1)\n",
    "\n",
    "        frames = []\n",
    "        for img_name in sorted(os.listdir(gesture_path)):\n",
    "            img_path = os.path.join(gesture_path, img_name)\n",
    "            image = Image.open(img_path).convert('RGB')  # Convert to RGB\n",
    "            image = np.array(image)  # Convert to ndarray\n",
    "            if self.transform:\n",
    "                image = self.transform(image)\n",
    "            frames.append(image)\n",
    "\n",
    "        frames_tensor = torch.stack(frames, dim=0)\n",
    "\n",
    "        return frames_tensor, gesture_class"
   ]
  },
  {
   "cell_type": "code",
   "execution_count": 65,
   "metadata": {},
   "outputs": [],
   "source": [
    "BATCH_SIZE = 4\n",
    "IMAGE_SIZE = (120, 160)\n",
    "SHUFFLE = True\n",
    "\n",
    "# Initialize transforms\n",
    "transform = get_transform(IMAGE_SIZE)\n",
    "\n",
    "# Initialize train dataset and DataLoader\n",
    "train_dataset = GestureDataset(\n",
    "    root_dir=train_dir, transform=transform)\n",
    "train_loader = DataLoader(train_dataset, batch_size=BATCH_SIZE, shuffle=SHUFFLE)\n",
    "\n",
    "# Initialize validation dataset and DataLoader\n",
    "val_dataset = GestureDataset(root_dir=val_dir, transform=transform)\n",
    "val_loader = DataLoader(val_dataset, batch_size=BATCH_SIZE, shuffle=SHUFFLE)\n"
   ]
  },
  {
   "attachments": {},
   "cell_type": "markdown",
   "metadata": {},
   "source": [
    "Model architecture"
   ]
  },
  {
   "cell_type": "code",
   "execution_count": 92,
   "metadata": {},
   "outputs": [],
   "source": [
    "# # 3D CNN model\n",
    "# class Deep3DCNN(nn.Module):\n",
    "#     def __init__(self, num_classes=5):\n",
    "#         super(Deep3DCNN, self).__init__()\n",
    "\n",
    "#         self.conv_layer = nn.Sequential(\n",
    "#             # Conv Layer 1\n",
    "#             nn.Conv3d(in_channels=3, out_channels=64,\n",
    "#                       kernel_size=3, padding=1),\n",
    "#             nn.BatchNorm3d(64),\n",
    "#             nn.ReLU(inplace=True),\n",
    "#             nn.MaxPool3d(kernel_size=2, stride=2),\n",
    "\n",
    "#             # Conv Layer 2\n",
    "#             nn.Conv3d(in_channels=64, out_channels=128, kernel_size=3),\n",
    "#             nn.BatchNorm3d(128),\n",
    "#             nn.ReLU(inplace=True),\n",
    "#             nn.MaxPool3d(2, stride=2),\n",
    "#             nn.Dropout3d(0.2),\n",
    "\n",
    "#             # Conv Layer 3\n",
    "#             nn.Conv3d(in_channels=128, out_channels=256, kernel_size=3),\n",
    "#             nn.BatchNorm3d(256),\n",
    "#             nn.ReLU(inplace=True),\n",
    "#             nn.MaxPool3d(2, stride=2),\n",
    "#             nn.Dropout3d(0.2),\n",
    "#         )\n",
    "\n",
    "#         # Flattening the tensor\n",
    "#         self.fc_layer = nn.Sequential(\n",
    "#             # adjust the input size based on the output of your network\n",
    "#             nn.Linear(256 * 13 * 14 * 14, 2048),\n",
    "#             nn.ReLU(inplace=True),\n",
    "#             nn.Dropout(0.4),\n",
    "#             nn.Linear(2048, 1024),\n",
    "#             nn.ReLU(inplace=True),\n",
    "#             nn.Linear(1024, num_classes)\n",
    "#         )\n",
    "\n",
    "#     def forward(self, x):\n",
    "#         x = self.conv_layer(x)\n",
    "#         x = x.view(x.size(0), -1)\n",
    "#         x = self.fc_layer(x)\n",
    "#         return x\n",
    "\n",
    "class Deep3DCNN(nn.Module):\n",
    "    def __init__(self, num_classes=5):\n",
    "        super(Deep3DCNN, self).__init__()\n",
    "\n",
    "        self.conv_layer = nn.Sequential(\n",
    "            nn.Conv3d(in_channels=30, out_channels=64,\n",
    "                      kernel_size=(1, 3, 3), padding=(0, 1, 1)),\n",
    "            nn.BatchNorm3d(64),\n",
    "            nn.ReLU(inplace=True),\n",
    "            nn.MaxPool3d(kernel_size=(1, 2, 2), stride=(1, 2, 2)),\n",
    "\n",
    "            nn.Conv3d(in_channels=64, out_channels=128,\n",
    "                      kernel_size=(1, 3, 3), padding=(0, 1, 1)),\n",
    "            nn.BatchNorm3d(128),\n",
    "            nn.ReLU(inplace=True),\n",
    "            nn.MaxPool3d((1, 2, 2), stride=(1, 2, 2)),\n",
    "            nn.Dropout3d(0.2),\n",
    "\n",
    "            nn.Conv3d(in_channels=128, out_channels=256,\n",
    "                      kernel_size=(1, 3, 3), padding=(0, 1, 1)),\n",
    "            nn.BatchNorm3d(256),\n",
    "            nn.ReLU(inplace=True),\n",
    "            nn.MaxPool3d((1, 2, 2), stride=(1, 2, 2)),\n",
    "            nn.Dropout3d(0.2),\n",
    "        )\n",
    "\n",
    "        output_size_after_conv = 230400  \n",
    "\n",
    "        self.fc_layer = nn.Sequential(\n",
    "            nn.Linear(output_size_after_conv, 2048),\n",
    "            nn.ReLU(inplace=True),\n",
    "            nn.Dropout(0.4),\n",
    "            nn.Linear(2048, 1024),\n",
    "            nn.ReLU(inplace=True),\n",
    "            nn.Linear(1024, num_classes))\n",
    "\n",
    "    def forward(self, x):\n",
    "        x = self.conv_layer(x)\n",
    "        print(x.shape)\n",
    "        x = x.view(x.size(0), -1)  # Flattening\n",
    "        x = self.fc_layer(x)\n",
    "        return x"
   ]
  },
  {
   "cell_type": "code",
   "execution_count": 93,
   "metadata": {},
   "outputs": [],
   "source": [
    "# Initialize the model, optimizer, and loss function\n",
    "num_classes = 5  # Number of gestures to recognize\n",
    "model = Deep3DCNN(num_classes=5)\n",
    "optimizer = torch.optim.Adam(model.parameters(), lr=0.001)\n",
    "criterion = nn.CrossEntropyLoss()\n",
    "train_dataloader = train_loader\n",
    "val_dataloader = val_loader"
   ]
  },
  {
   "attachments": {},
   "cell_type": "markdown",
   "metadata": {},
   "source": [
    "Training pipeline"
   ]
  },
  {
   "cell_type": "code",
   "execution_count": 94,
   "metadata": {},
   "outputs": [
    {
     "name": "stdout",
     "output_type": "stream",
     "text": [
      "torch.Size([4, 256, 3, 15, 20])\n",
      "torch.Size([4, 256, 3, 15, 20])\n",
      "torch.Size([4, 256, 3, 15, 20])\n",
      "torch.Size([4, 256, 3, 15, 20])\n",
      "torch.Size([4, 256, 3, 15, 20])\n",
      "torch.Size([4, 256, 3, 15, 20])\n",
      "torch.Size([4, 256, 3, 15, 20])\n",
      "torch.Size([4, 256, 3, 15, 20])\n",
      "torch.Size([4, 256, 3, 15, 20])\n",
      "torch.Size([4, 256, 3, 15, 20])\n",
      "[Epoch 1, Iter 10] loss: 117.602\n",
      "torch.Size([4, 256, 3, 15, 20])\n",
      "torch.Size([4, 256, 3, 15, 20])\n",
      "torch.Size([4, 256, 3, 15, 20])\n",
      "torch.Size([4, 256, 3, 15, 20])\n",
      "torch.Size([4, 256, 3, 15, 20])\n",
      "torch.Size([4, 256, 3, 15, 20])\n"
     ]
    }
   ],
   "source": [
    "# Setting hyperparameters\n",
    "num_epochs = 50\n",
    "log_interval = 10  # Log training info every 10 batches\n",
    "val_interval = 1  # Validate the model every 1 epoch\n",
    "\n",
    "# For storing training history\n",
    "train_losses = []\n",
    "val_losses = []\n",
    "\n",
    "# Move model to GPU if available\n",
    "if torch.cuda.is_available():\n",
    "    model = model.cuda()\n",
    "\n",
    "# Training Loop\n",
    "for epoch in range(num_epochs):\n",
    "    model.train()\n",
    "    running_loss = 0.0\n",
    "\n",
    "    for i, (videos, labels) in enumerate(train_dataloader):\n",
    "        videos, labels = Variable(videos), Variable(labels)\n",
    "\n",
    "        if torch.cuda.is_available():\n",
    "            videos = videos.cuda()\n",
    "            labels = labels.cuda()\n",
    "\n",
    "        # Zero the parameter gradients\n",
    "        optimizer.zero_grad()\n",
    "\n",
    "        # Forward\n",
    "        outputs = model(videos)\n",
    "        loss = criterion(outputs, labels)\n",
    "\n",
    "        # Backward and optimize\n",
    "        loss.backward()\n",
    "        optimizer.step()\n",
    "\n",
    "        running_loss += loss.item()\n",
    "\n",
    "        if i % log_interval == (log_interval - 1):\n",
    "            print(\n",
    "                f\"[Epoch {epoch + 1}, Iter {i + 1}] loss: {running_loss / log_interval:.3f}\")\n",
    "            train_losses.append(running_loss / log_interval)\n",
    "            running_loss = 0.0\n",
    "\n",
    "    # Validation loop\n",
    "    if epoch % val_interval == 0:\n",
    "        model.eval()\n",
    "        val_loss = 0.0\n",
    "        correct = 0\n",
    "        total = 0\n",
    "\n",
    "        with torch.no_grad():\n",
    "            for videos, labels in val_dataloader:\n",
    "                videos, labels = Variable(videos), Variable(labels)\n",
    "\n",
    "                if torch.cuda.is_available():\n",
    "                    videos = videos.cuda()\n",
    "                    labels = labels.cuda()\n",
    "\n",
    "                outputs = model(videos)\n",
    "                loss = criterion(outputs, labels)\n",
    "\n",
    "                val_loss += loss.item()\n",
    "\n",
    "                _, predicted = torch.max(outputs.data, 1)\n",
    "                total += labels.size(0)\n",
    "                correct += (predicted == labels).sum().item()\n",
    "\n",
    "        val_loss /= len(val_dataloader)\n",
    "        val_losses.append(val_loss)\n",
    "        accuracy = 100 * correct / total\n",
    "\n",
    "        print(\n",
    "            f\"[Validation] Epoch {epoch + 1} Loss: {val_loss:.3f} | Accuracy: {accuracy}%\")\n",
    "\n",
    "        # Save the model checkpoint\n",
    "        torch.save(model.state_dict(), f'gesture_recog_epoch_{epoch+1}.pth')"
   ]
  },
  {
   "attachments": {},
   "cell_type": "markdown",
   "metadata": {},
   "source": [
    "Test pipeline"
   ]
  },
  {
   "cell_type": "code",
   "execution_count": null,
   "metadata": {},
   "outputs": [],
   "source": [
    "transform = transforms.Compose([\n",
    "    transforms.Resize((120, 160)),\n",
    "    transforms.ToTensor(),\n",
    "])"
   ]
  },
  {
   "cell_type": "code",
   "execution_count": null,
   "metadata": {},
   "outputs": [],
   "source": [
    "# Initialize the camera\n",
    "camera = cv2.VideoCapture(0)\n",
    "\n",
    "# Initialize the model and set it to evaluation mode\n",
    "model = Deep3DCNN(num_classes=5)\n",
    "model.eval()\n",
    "\n",
    "frame_count = 0\n",
    "recent_frames = []"
   ]
  },
  {
   "cell_type": "code",
   "execution_count": null,
   "metadata": {},
   "outputs": [],
   "source": [
    "while True:\n",
    "    # Capture frame-by-frame\n",
    "    ret, frame = camera.read()\n",
    "\n",
    "    if not ret:\n",
    "        print(\"Failed to grab frame\")\n",
    "        break\n",
    "\n",
    "    # Convert the captured frame to RGB\n",
    "    rgb_frame = cv2.cvtColor(frame, cv2.COLOR_BGR2RGB)\n",
    "\n",
    "    # Convert the numpy array to PIL Image\n",
    "    rgb_frame = Image.fromarray(rgb_frame)\n",
    "\n",
    "    # Apply transformations\n",
    "    transformed_frame = transform(rgb_frame)\n",
    "\n",
    "    # Increment frame counter and append the frame to recent_frames\n",
    "    frame_count += 1\n",
    "    recent_frames.append(transformed_frame)\n",
    "\n",
    "    # Once 30 frames are accumulated, make the prediction\n",
    "    if frame_count == 30:\n",
    "        # Convert the list of 30 frames to a tensor\n",
    "        test_sample = torch.stack(recent_frames, dim=0).unsqueeze(\n",
    "            0)  # Shape: [1, 30, 3, 120, 160]\n",
    "        # Make a prediction\n",
    "        with torch.no_grad():\n",
    "            output = model(test_sample)\n",
    "            _, prediction = torch.max(output.data, 1)\n",
    "\n",
    "        print(\"Predicted Gesture:\", prediction.item())\n",
    "\n",
    "        frame_count = 0\n",
    "        recent_frames = []\n",
    "\n",
    "    # Display the frame\n",
    "    cv2.imshow(\"Gesture Recognition\", frame)\n",
    "\n",
    "    if cv2.waitKey(1) & 0xFF == ord('q'):\n",
    "        break"
   ]
  },
  {
   "cell_type": "code",
   "execution_count": null,
   "metadata": {},
   "outputs": [],
   "source": [
    "#Clean up\n",
    "camera.release()\n",
    "cv2.destroyAllWindows()"
   ]
  }
 ],
 "metadata": {
  "kernelspec": {
   "display_name": "myenv",
   "language": "python",
   "name": "python3"
  },
  "language_info": {
   "codemirror_mode": {
    "name": "ipython",
    "version": 3
   },
   "file_extension": ".py",
   "mimetype": "text/x-python",
   "name": "python",
   "nbconvert_exporter": "python",
   "pygments_lexer": "ipython3",
   "version": "3.7.6"
  },
  "orig_nbformat": 4,
  "vscode": {
   "interpreter": {
    "hash": "a27c97cdfd93c0dbfbc1217e390474b7a3939b486f21c5a485c92fc29bd040d0"
   }
  }
 },
 "nbformat": 4,
 "nbformat_minor": 2
}
