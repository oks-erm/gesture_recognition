{
 "cells": [
  {
   "attachments": {},
   "cell_type": "markdown",
   "metadata": {},
   "source": [
    "Import libraries"
   ]
  },
  {
   "cell_type": "code",
   "execution_count": 1,
   "metadata": {},
   "outputs": [
    {
     "name": "stderr",
     "output_type": "stream",
     "text": [
      "/Users/oksanaerm/gesture_recognition/myenv/lib/python3.7/site-packages/tqdm/auto.py:21: TqdmWarning: IProgress not found. Please update jupyter and ipywidgets. See https://ipywidgets.readthedocs.io/en/stable/user_install.html\n",
      "  from .autonotebook import tqdm as notebook_tqdm\n"
     ]
    },
    {
     "name": "stdout",
     "output_type": "stream",
     "text": [
      "1.13.1\n"
     ]
    }
   ],
   "source": [
    "import os\n",
    "import torch\n",
    "import torch.nn as nn\n",
    "import numpy as np\n",
    "from torch.utils.data import Dataset, DataLoader, random_split\n",
    "from torchvision import transforms\n",
    "from torch.autograd import Variable\n",
    "import torch.optim as optim\n",
    "from PIL import Image\n",
    "import pandas as pd\n",
    "import cv2\n",
    "import zipfile\n",
    "print(torch.__version__)"
   ]
  },
  {
   "attachments": {},
   "cell_type": "markdown",
   "metadata": {},
   "source": [
    "Setup the environment"
   ]
  },
  {
   "cell_type": "code",
   "execution_count": 2,
   "metadata": {},
   "outputs": [
    {
     "name": "stdout",
     "output_type": "stream",
     "text": [
      "Current directory:  /Users/oksanaerm/gesture_recognition\n"
     ]
    }
   ],
   "source": [
    "current_dir = os.getcwd()\n",
    "os.chdir(os.path.dirname(current_dir))\n",
    "current_dir = os.getcwd()\n",
    "print('Current directory: ', current_dir)"
   ]
  },
  {
   "cell_type": "code",
   "execution_count": 3,
   "metadata": {},
   "outputs": [
    {
     "name": "stdout",
     "output_type": "stream",
     "text": [
      "Data directory:  /Users/oksanaerm/gesture_recognition/data/\n"
     ]
    }
   ],
   "source": [
    "data_dir = os.path.join(current_dir, 'data/')\n",
    "train_dir = os.path.join(data_dir, 'train/')\n",
    "val_dir = os.path.join(data_dir, 'val/')\n",
    "test_dir = os.path.join(data_dir, 'test/')\n",
    "print('Data directory: ', data_dir)"
   ]
  },
  {
   "attachments": {},
   "cell_type": "markdown",
   "metadata": {},
   "source": [
    "Import data"
   ]
  },
  {
   "cell_type": "code",
   "execution_count": null,
   "metadata": {},
   "outputs": [],
   "source": [
    "! pip install kaggle"
   ]
  },
  {
   "cell_type": "code",
   "execution_count": 6,
   "metadata": {},
   "outputs": [
    {
     "name": "stdout",
     "output_type": "stream",
     "text": [
      "Kaggle API token loaded.\n"
     ]
    }
   ],
   "source": [
    "with open(\"kaggle.json\", \"r\") as f:\n",
    "    import json\n",
    "    api_token = json.load(f)\n",
    "os.environ['KAGGLE_USERNAME'] = api_token[\"username\"]\n",
    "os.environ['KAGGLE_KEY'] = api_token[\"key\"]\n",
    "print('Kaggle API token loaded.')"
   ]
  },
  {
   "cell_type": "code",
   "execution_count": 9,
   "metadata": {},
   "outputs": [
    {
     "name": "stdout",
     "output_type": "stream",
     "text": [
      "Downloading gesture-recognition.zip to data\n",
      "100%|█████████████████████████████████████▉| 1.60G/1.60G [09:15<00:00, 5.82MB/s]\n",
      "100%|██████████████████████████████████████| 1.60G/1.60G [09:15<00:00, 3.09MB/s]\n",
      "Dataset not found.\n"
     ]
    }
   ],
   "source": [
    "! kaggle datasets download -d imsparsh/gesture-recognition -p data\n",
    "\n",
    "# Check for the presence of the dataset file\n",
    "if any(file.endswith('.zip') for file in data_dir):\n",
    "    print(\"Dataset downloaded successfully.\")\n",
    "else:\n",
    "    print(\"Dataset not found.\")"
   ]
  },
  {
   "cell_type": "code",
   "execution_count": 12,
   "metadata": {},
   "outputs": [
    {
     "name": "stdout",
     "output_type": "stream",
     "text": [
      "Dataset extracted successfully.\n"
     ]
    }
   ],
   "source": [
    "with zipfile.ZipFile(os.path.join(data_dir, 'gesture-recognition.zip'), 'r') as zip_ref:\n",
    "    zip_ref.extractall(data_dir)\n",
    "    print(\"Dataset extracted successfully.\")\n",
    "os.remove(os.path.join(data_dir, 'gesture-recognition.zip'))"
   ]
  },
  {
   "cell_type": "code",
   "execution_count": 4,
   "metadata": {},
   "outputs": [],
   "source": [
    "def get_transform(image_size: tuple) -> transforms.Compose:\n",
    "    return transforms.Compose([\n",
    "        transforms.ToPILImage(),\n",
    "        transforms.Resize(image_size),\n",
    "        transforms.ToTensor()\n",
    "    ])"
   ]
  },
  {
   "cell_type": "code",
   "execution_count": 5,
   "metadata": {},
   "outputs": [],
   "source": [
    "class GestureDataset(Dataset):\n",
    "    def __init__(self, root_dir, transform=None):\n",
    "        self.root_dir = root_dir\n",
    "        self.transform = transform\n",
    "        self.gesture_folders = sorted(\n",
    "            [folder for folder in os.listdir(self.root_dir)])\n",
    "        self.class_to_label = {\n",
    "            'Thumbs_Down': 0, 'Right_Swipe': 1, 'Thumbs_Up': 2, 'Left_Swipe': 3, 'Stop': 4}\n",
    "\n",
    "    def __len__(self):\n",
    "        return len(self.gesture_folders)\n",
    "\n",
    "    def __getitem__(self, idx):\n",
    "        gesture_path = os.path.join(self.root_dir, self.gesture_folders[idx])\n",
    "\n",
    "        # Normalize folder name by replacing underscores and converting to lower case\n",
    "        normalized_folder_name = self.gesture_folders[idx].replace(\n",
    "            '_', ' ').lower()\n",
    "\n",
    "        # Try to match normalized folder name with normalized keys from the dictionary\n",
    "        for gesture_type in self.class_to_label.keys():\n",
    "            normalized_gesture_type = gesture_type.replace('_', ' ').lower()\n",
    "            if normalized_gesture_type in normalized_folder_name:\n",
    "                gesture_class_str = gesture_type\n",
    "                break\n",
    "        else:\n",
    "            raise ValueError(\n",
    "                f\"Unknown gesture type in folder name: {self.gesture_folders[idx]}\")\n",
    "\n",
    "        # Use the dictionary to get the integer label\n",
    "        gesture_class = self.class_to_label.get(gesture_class_str, -1)\n",
    "\n",
    "        frames = []\n",
    "        for img_name in sorted(os.listdir(gesture_path)):\n",
    "            img_path = os.path.join(gesture_path, img_name)\n",
    "            image = Image.open(img_path).convert('RGB')  # Convert to RGB\n",
    "            image = np.array(image)  # Convert to ndarray\n",
    "            if self.transform:\n",
    "                image = self.transform(image)\n",
    "            frames.append(image)\n",
    "\n",
    "        frames_tensor = torch.stack(frames, dim=0)\n",
    "\n",
    "        return frames_tensor, gesture_class"
   ]
  },
  {
   "cell_type": "code",
   "execution_count": 6,
   "metadata": {},
   "outputs": [],
   "source": [
    "BATCH_SIZE = 4\n",
    "IMAGE_SIZE = (120, 160)\n",
    "SHUFFLE = True\n",
    "\n",
    "# Initialize transforms\n",
    "transform = get_transform(IMAGE_SIZE)\n",
    "\n",
    "# Initialize train dataset and DataLoader\n",
    "train_dataset = GestureDataset(\n",
    "    root_dir=train_dir, transform=transform)\n",
    "train_loader = DataLoader(train_dataset, batch_size=BATCH_SIZE, shuffle=SHUFFLE)\n",
    "\n",
    "# Initialize validation dataset and DataLoader\n",
    "val_dataset = GestureDataset(root_dir=val_dir, transform=transform)\n",
    "val_loader = DataLoader(val_dataset, batch_size=BATCH_SIZE, shuffle=SHUFFLE)\n"
   ]
  },
  {
   "attachments": {},
   "cell_type": "markdown",
   "metadata": {},
   "source": [
    "Model architecture"
   ]
  },
  {
   "cell_type": "code",
   "execution_count": 10,
   "metadata": {},
   "outputs": [],
   "source": [
    "import torch.nn.init as init\n",
    "\n",
    "# Initialize weights\n",
    "class SEBlock(nn.Module):\n",
    "    def __init__(self, in_channels, reduction=16):\n",
    "        super(SEBlock, self).__init__()\n",
    "        self.avg_pool = nn.AdaptiveAvgPool3d(1)\n",
    "        self.fc = nn.Sequential(\n",
    "            nn.Linear(in_channels, in_channels // reduction, bias=False),\n",
    "            nn.ReLU(inplace=True),\n",
    "            nn.Linear(in_channels // reduction, in_channels, bias=False),\n",
    "            nn.Sigmoid()\n",
    "        )\n",
    "\n",
    "    def forward(self, x):\n",
    "        b, c, _, _, _ = x.size()\n",
    "        y = self.avg_pool(x).view(b, c)\n",
    "        y = self.fc(y).view(b, c, 1, 1, 1)\n",
    "        return x * y.expand_as(x)\n",
    "\n",
    "# Define the model\n",
    "class Deep3DCNN(nn.Module):\n",
    "    def __init__(self, num_classes=5):\n",
    "        super(Deep3DCNN, self).__init__()\n",
    "        \n",
    "        # Convolutional layers\n",
    "        self.conv_layer = nn.Sequential(\n",
    "            nn.Conv3d(in_channels=30, out_channels=64, kernel_size=(1, 3, 3), padding=(0, 1, 1), groups=2),\n",
    "            nn.BatchNorm3d(64),\n",
    "            nn.ReLU(inplace=True),\n",
    "            SEBlock(64),\n",
    "            nn.MaxPool3d((1, 2, 2), stride=(1, 2, 2)),\n",
    "            \n",
    "            nn.Conv3d(in_channels=64, out_channels=128, kernel_size=(1, 3, 3), padding=(0, 1, 1), groups=2),\n",
    "            nn.BatchNorm3d(128),\n",
    "            nn.ReLU(inplace=True),\n",
    "            SEBlock(128),\n",
    "            nn.MaxPool3d((1, 2, 2), stride=(1, 2, 2)),\n",
    "            nn.Dropout3d(0.2),\n",
    "\n",
    "            nn.Conv3d(in_channels=128, out_channels=256, kernel_size=(1, 3, 3), padding=(0, 1, 1), groups=2),\n",
    "            nn.BatchNorm3d(256),\n",
    "            nn.ReLU(inplace=True),\n",
    "            SEBlock(256),\n",
    "            nn.MaxPool3d((1, 2, 2), stride=(1, 2, 2)),\n",
    "            nn.Dropout3d(0.2),\n",
    "        )\n",
    "        # Adaptive pool to make output size (batch_size, channels, 1, 1, 1)\n",
    "        self.adaptive_pool = nn.AdaptiveAvgPool3d((1, 1, 1))\n",
    "        \n",
    "        # Fully connected layer\n",
    "        self.fc_layer = nn.Sequential(\n",
    "            nn.Linear(256, 2048),\n",
    "            nn.ReLU(inplace=True),\n",
    "            nn.Dropout(0.4),\n",
    "            nn.Linear(2048, 1024),\n",
    "            nn.ReLU(inplace=True),\n",
    "            nn.Linear(1024, num_classes)\n",
    "        )\n",
    "\n",
    "        self._initialize_weights()\n",
    "\n",
    "    # Initialize weights using Xavier initialization to improve convergence\n",
    "    def _initialize_weights(self):\n",
    "        for m in self.modules():\n",
    "            if isinstance(m, nn.Conv3d):\n",
    "                init.xavier_normal_(m.weight)\n",
    "            elif isinstance(m, nn.Linear):\n",
    "                init.xavier_normal_(m.weight)\n",
    "\n",
    "    def forward(self, x):\n",
    "        x = self.conv_layer(x)\n",
    "        x = self.adaptive_pool(x)\n",
    "        x = x.view(x.size(0), -1)\n",
    "        x = self.fc_layer(x)\n",
    "        return x"
   ]
  },
  {
   "attachments": {},
   "cell_type": "markdown",
   "metadata": {},
   "source": [
    "Initialise the model"
   ]
  },
  {
   "cell_type": "code",
   "execution_count": 12,
   "metadata": {},
   "outputs": [],
   "source": [
    "from torch.optim import lr_scheduler\n",
    "\n",
    "# Initialize the model\n",
    "num_classes = 5\n",
    "model = Deep3DCNN(num_classes=num_classes)\n",
    "if torch.cuda.is_available():\n",
    "    model = model.cuda()\n",
    "\n",
    "# Initialize optimizer with weight decay and different learning rates\n",
    "optimizer = torch.optim.Adam([\n",
    "    {'params': model.conv_layer.parameters(), 'lr': 1e-4},\n",
    "    {'params': model.fc_layer.parameters(), 'lr': 1e-3},\n",
    "], lr=1e-3, weight_decay=1e-5)\n",
    "\n",
    "# Loss function\n",
    "criterion = nn.CrossEntropyLoss()\n",
    "\n",
    "# Learning rate scheduler\n",
    "scheduler = lr_scheduler.ReduceLROnPlateau(\n",
    "    optimizer, 'min', patience=5, verbose=True)\n",
    "\n",
    "# DataLoader initialization\n",
    "train_dataloader = train_loader\n",
    "val_dataloader = val_loader"
   ]
  },
  {
   "attachments": {},
   "cell_type": "markdown",
   "metadata": {},
   "source": [
    "Training pipeline"
   ]
  },
  {
   "cell_type": "code",
   "execution_count": 18,
   "metadata": {},
   "outputs": [
    {
     "name": "stderr",
     "output_type": "stream",
     "text": [
      "Epoch 1: 100%|██████████| 166/166 [04:28<00:00,  1.62s/it]\n",
      "Validation Epoch 1: 100%|██████████| 25/25 [00:21<00:00,  1.17it/s]\n"
     ]
    },
    {
     "name": "stdout",
     "output_type": "stream",
     "text": [
      "[Validation] Epoch 1 | Loss: 1.204 | Accuracy: 41.00%\n"
     ]
    },
    {
     "name": "stderr",
     "output_type": "stream",
     "text": [
      "Epoch 2: 100%|██████████| 166/166 [04:25<00:00,  1.60s/it]\n",
      "Validation Epoch 2: 100%|██████████| 25/25 [00:20<00:00,  1.19it/s]\n"
     ]
    },
    {
     "name": "stdout",
     "output_type": "stream",
     "text": [
      "[Validation] Epoch 2 | Loss: 1.207 | Accuracy: 45.00%\n"
     ]
    },
    {
     "name": "stderr",
     "output_type": "stream",
     "text": [
      "Epoch 3: 100%|██████████| 166/166 [04:25<00:00,  1.60s/it]\n",
      "Validation Epoch 3: 100%|██████████| 25/25 [00:21<00:00,  1.18it/s]\n"
     ]
    },
    {
     "name": "stdout",
     "output_type": "stream",
     "text": [
      "[Validation] Epoch 3 | Loss: 1.066 | Accuracy: 53.00%\n"
     ]
    },
    {
     "name": "stderr",
     "output_type": "stream",
     "text": [
      "Epoch 4:  93%|█████████▎| 154/166 [04:05<00:19,  1.66s/it]"
     ]
    }
   ],
   "source": [
    "from tqdm import tqdm\n",
    "from torch.utils.tensorboard import SummaryWriter\n",
    "from torch.cuda.amp import autocast, GradScaler\n",
    "\n",
    "# Hyperparameter Configuration\n",
    "config = {\n",
    "    'num_epochs': 15,\n",
    "    'log_interval': 10,\n",
    "    'val_interval': 1,\n",
    "    'batch_size': 32,\n",
    "    'lr': 0.001,\n",
    "}\n",
    "\n",
    "writer = SummaryWriter()\n",
    "scaler = GradScaler()\n",
    "best_val_loss = float('inf')\n",
    "\n",
    "# Main Loop\n",
    "for epoch in range(config['num_epochs']):\n",
    "    model.train()\n",
    "    running_loss = 0.0\n",
    "    \n",
    "    # Progress tracking with tqdm\n",
    "    for i, (videos, labels) in enumerate(tqdm(train_dataloader, desc=f\"Epoch {epoch + 1}\")):\n",
    "        \n",
    "        if torch.cuda.is_available():\n",
    "            videos, labels = videos.cuda(), labels.cuda()\n",
    "        \n",
    "        optimizer.zero_grad()\n",
    "        \n",
    "        # Using context manager for AMP\n",
    "        with autocast():\n",
    "            outputs = model(videos)\n",
    "            loss = criterion(outputs, labels)\n",
    "        \n",
    "        # Backward pass and optimization\n",
    "        scaler.scale(loss).backward()\n",
    "        scaler.step(optimizer)\n",
    "        scaler.update()\n",
    "\n",
    "        # In-place operation for running_loss\n",
    "        running_loss += loss.item()\n",
    "        \n",
    "        # Log and reset running loss\n",
    "        if i % config['log_interval'] == (config['log_interval'] - 1):\n",
    "            writer.add_scalar('Training Loss', running_loss / config['log_interval'], epoch * len(train_dataloader) + i)\n",
    "            running_loss = 0.0\n",
    "\n",
    "    # Validation\n",
    "    model.eval()\n",
    "    val_loss = 0.0\n",
    "    correct = 0\n",
    "    total = 0\n",
    "\n",
    "    with torch.no_grad():\n",
    "        for videos, labels in tqdm(val_dataloader, desc=f\"Validation Epoch {epoch + 1}\"):\n",
    "            \n",
    "            if torch.cuda.is_available():\n",
    "                videos, labels = videos.cuda(), labels.cuda()\n",
    "            \n",
    "            outputs = model(videos)\n",
    "            loss = criterion(outputs, labels)\n",
    "            \n",
    "            # In-place operation for val_loss\n",
    "            val_loss += loss.item()\n",
    "\n",
    "            _, predicted = torch.max(outputs, 1)\n",
    "            total += labels.size(0)\n",
    "            correct += (predicted == labels).sum().item()\n",
    "\n",
    "    val_loss /= len(val_dataloader)\n",
    "    writer.add_scalar('Validation Loss', val_loss, epoch)\n",
    "    accuracy = 100 * correct / total\n",
    "    writer.add_scalar('Validation Accuracy', accuracy, epoch)\n",
    "\n",
    "    print(\n",
    "        f\"[Validation] Epoch {epoch + 1} | Loss: {val_loss:.3f} | Accuracy: {accuracy:.2f}%\")\n",
    "\n",
    "    # Scheduler step based on the validation loss\n",
    "    scheduler.step(val_loss)\n",
    "\n",
    "    # Save best model\n",
    "    if val_loss < best_val_loss:\n",
    "        best_val_loss = val_loss\n",
    "        torch.save(model.state_dict(), 'best_gesture_recog.pth')"
   ]
  },
  {
   "attachments": {},
   "cell_type": "markdown",
   "metadata": {},
   "source": [
    "Test pipeline"
   ]
  },
  {
   "cell_type": "code",
   "execution_count": 99,
   "metadata": {},
   "outputs": [],
   "source": [
    "transform = transforms.Compose([\n",
    "    transforms.Resize((120, 160)),\n",
    "    transforms.ToTensor(),\n",
    "])"
   ]
  },
  {
   "cell_type": "code",
   "execution_count": null,
   "metadata": {},
   "outputs": [],
   "source": [
    "from collections import deque\n",
    "\n",
    "# Initialize the camera\n",
    "camera = cv2.VideoCapture(0)\n",
    "\n",
    "# Initialize the model and set it to evaluation mode\n",
    "model = Deep3DCNN(num_classes=5)\n",
    "model.load_state_dict(torch.load('best_model.pth'))\n",
    "model.eval()\n",
    "\n",
    "# Initialize deque for storing recent frames\n",
    "recent_frames = deque(maxlen=30)"
   ]
  },
  {
   "cell_type": "code",
   "execution_count": null,
   "metadata": {},
   "outputs": [],
   "source": [
    "while True:\n",
    "    ret, frame = camera.read()\n",
    "    if not ret:\n",
    "        print(\"Failed to grab frame\")\n",
    "        break\n",
    "\n",
    "    rgb_frame = cv2.cvtColor(frame, cv2.COLOR_BGR2RGB)\n",
    "    rgb_frame = Image.fromarray(rgb_frame)\n",
    "    transformed_frame = transform(rgb_frame)\n",
    "\n",
    "    # Add the frame to deque\n",
    "    recent_frames.append(transformed_frame)\n",
    "\n",
    "    if len(recent_frames) == 30:\n",
    "        # Make a prediction\n",
    "        test_sample = torch.stack(list(recent_frames), dim=0).unsqueeze(0)\n",
    "        if torch.cuda.is_available():\n",
    "            test_sample = test_sample.cuda()\n",
    "\n",
    "        with torch.no_grad():\n",
    "            output = model(test_sample)\n",
    "            _, prediction = torch.max(output.data, 1)\n",
    "\n",
    "        print(f\"Predicted Gesture: {prediction.item()}\")\n",
    "\n",
    "        # Display prediction on the frame\n",
    "        cv2.putText(frame, f\"Gesture: {prediction.item()}\", (10, 50),\n",
    "                    cv2.FONT_HERSHEY_SIMPLEX, 1, (255, 255, 255), 2)\n",
    "\n",
    "    # Display the resulting frame\n",
    "    cv2.imshow(\"Gesture Recognition\", frame)\n",
    "\n",
    "    if cv2.waitKey(1) & 0xFF == ord('q'):\n",
    "        break"
   ]
  },
  {
   "cell_type": "code",
   "execution_count": null,
   "metadata": {},
   "outputs": [],
   "source": [
    "#Clean up\n",
    "camera.release()\n",
    "cv2.destroyAllWindows()"
   ]
  }
 ],
 "metadata": {
  "kernelspec": {
   "display_name": "myenv",
   "language": "python",
   "name": "python3"
  },
  "language_info": {
   "codemirror_mode": {
    "name": "ipython",
    "version": 3
   },
   "file_extension": ".py",
   "mimetype": "text/x-python",
   "name": "python",
   "nbconvert_exporter": "python",
   "pygments_lexer": "ipython3",
   "version": "3.7.6"
  },
  "orig_nbformat": 4,
  "vscode": {
   "interpreter": {
    "hash": "a27c97cdfd93c0dbfbc1217e390474b7a3939b486f21c5a485c92fc29bd040d0"
   }
  }
 },
 "nbformat": 4,
 "nbformat_minor": 2
}
